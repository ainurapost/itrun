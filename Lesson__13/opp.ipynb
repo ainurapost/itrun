{
 "metadata": {
  "language_info": {
   "codemirror_mode": {
    "name": "ipython",
    "version": 3
   },
   "file_extension": ".py",
   "mimetype": "text/x-python",
   "name": "python",
   "nbconvert_exporter": "python",
   "pygments_lexer": "ipython3",
   "version": "3.9.1-final"
  },
  "orig_nbformat": 2,
  "kernelspec": {
   "name": "python3",
   "display_name": "Python 3.9.1 64-bit",
   "metadata": {
    "interpreter": {
     "hash": "7812ea015bdcee6f23a998adcdd2ef97c151c0c241b7b7070987d9313e41299d"
    }
   }
  }
 },
 "nbformat": 4,
 "nbformat_minor": 2,
 "cells": [
  {
   "cell_type": "code",
   "execution_count": 2,
   "metadata": {},
   "outputs": [
    {
     "output_type": "stream",
     "name": "stdout",
     "text": [
      "5 <class 'int'>\nTrue <class 'bool'>\n"
     ]
    }
   ],
   "source": [
    "l = list(1,2,3,4,5)\n",
    "l.append(5)"
   ]
  },
  {
   "cell_type": "code",
   "execution_count": 9,
   "metadata": {},
   "outputs": [
    {
     "output_type": "stream",
     "name": "stdout",
     "text": [
      "Собака Alex прыгнула\nСобака Tommy прыгнула\nСобака Tommy гавкнула\nAlex 2\n"
     ]
    }
   ],
   "source": [
    "class Dog:\n",
    "    def __init__(self, name, age):\n",
    "        \"\"\"\n",
    "        Конструктор. \n",
    "        Магический метод, который срабатывает автоматически при создании объекта\n",
    "        \"\"\"\n",
    "        self.dog_name = name # Атрибуты\n",
    "        self.dog_age = age\n",
    "    # Методы\n",
    "    def jump(self):\n",
    "        print(f\"Собака {self.dog_name} прыгнула\")\n",
    "\n",
    "    def bark(self):\n",
    "        print(f\"Собака {self.dog_name} гавкнула\")\n",
    "\"\"\"\n",
    "Создать класс Car, у которой есть атрибуты \"марка, мощность, максимальная скорость, вес, количество колес\"\n",
    "\n",
    "заводится\n",
    "глушится\n",
    "начало поездки\n",
    "конец поездки\n",
    "\"\"\"\n",
    "\n",
    "alex = Dog(\"Alex\", 2)\n",
    "tommy = Dog(\"Tommy\", 6)\n",
    "\n",
    "alex.jump()\n",
    "tommy.jump()\n",
    "tommy.bark()\n",
    "print(alex.dog_name, alex.dog_age)"
   ]
  },
  {
   "cell_type": "code",
   "execution_count": 12,
   "metadata": {},
   "outputs": [
    {
     "output_type": "stream",
     "name": "stdout",
     "text": [
      "Машина BMW завелась\nМашина Audi завелась\n"
     ]
    }
   ],
   "source": [
    "class Car:\n",
    "    def __init__(self, model):\n",
    "        self.model = model\n",
    "        self.engine_started = False\n",
    "    \n",
    "    def engine_start(self):\n",
    "        if not self.engine_started:\n",
    "            print(f\"Машина {self.model} завелась\")\n",
    "            self.engine_started = True\n",
    "    \n",
    "    def engine_stop(self):\n",
    "        if self.engine_started:\n",
    "            print(f\"Машина {self.model} заглохла\")\n",
    "            self.engine_started = False\n",
    "        \n",
    "\n",
    "car_1 = Car(\"BMW\")\n",
    "car_1.engine_start()\n",
    "car_1.engine_start()\n",
    "\n",
    "car_2 = Car(\"Audi\")\n",
    "car_2.engine_start()\n",
    "\n",
    "car_2.engine_stop()\n"
   ]
  },
  {
   "cell_type": "code",
   "execution_count": null,
   "metadata": {},
   "outputs": [],
   "source": []
  }
 ]
}