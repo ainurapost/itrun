{
 "metadata": {
  "language_info": {
   "codemirror_mode": {
    "name": "ipython",
    "version": 3
   },
   "file_extension": ".py",
   "mimetype": "text/x-python",
   "name": "python",
   "nbconvert_exporter": "python",
   "pygments_lexer": "ipython3",
   "version": "3.9.1-final"
  },
  "orig_nbformat": 2,
  "kernelspec": {
   "name": "python3",
   "display_name": "Python 3.9.1 64-bit",
   "metadata": {
    "interpreter": {
     "hash": "aee8b7b246df8f9039afb4144a1f6fd8d2ca17a180786b69acc140d282b71a49"
    }
   }
  }
 },
 "nbformat": 4,
 "nbformat_minor": 2,
 "cells": [
  {
   "source": [
    "# Вызов функции, для вызова функции обязательно нужны скобки\n",
    "# Функции такие же обьекты как строки, списки и словари т.е мы можем сохранять их в переменные\n",
    "def my_func(arg1, arg2):\n",
    "    return arg1 + arg2\n",
    "\n",
    "my_variable = my_func(2, 6) # Скобки говорят вызвать функцию\n",
    "print(\"my_variable:\", my_variable)\n",
    "print(\"my_func:\", my_func(5, 9))"
   ],
   "cell_type": "code",
   "metadata": {},
   "execution_count": null,
   "outputs": []
  },
  {
   "cell_type": "code",
   "execution_count": null,
   "metadata": {},
   "outputs": [],
   "source": [
    "# Функции могут принимать в качестве аргумента результат выполнения другой функции\n",
    "def my_func(arg1, arg2):\n",
    "    return arg1 + arg2\n",
    "\n",
    "result_1 = my_func(11, 6) # 11 + 6\n",
    "result_2 = my_func(my_func(6, 8), my_func(7, 2)) # (6 + 8) + (7 + 2)\n",
    "\n",
    "print(\"result_1:\", result_1)\n",
    "print(\"result_2:\", result_2)"
   ]
  },
  {
   "cell_type": "code",
   "execution_count": null,
   "metadata": {},
   "outputs": [],
   "source": [
    "# Функции могут принимать в качестве аргумента другую функцию\n",
    "def division(arg1, arg2):\n",
    "    return arg1 / arg2\n",
    "\n",
    "def multiplication(arg1, arg2):\n",
    "    return arg1 * arg2\n",
    "\n",
    "def caller(func, p1, p2):\n",
    "    return func(p1, p2)\n",
    "\n",
    "result_1 = caller(division, 55, 2)\n",
    "result_2 = caller(multiplication, 55, 2)\n",
    "\n",
    "print(\"result_1:\", result_1)\n",
    "print(\"result_2:\", result_2)"
   ]
  },
  {
   "cell_type": "code",
   "execution_count": null,
   "metadata": {},
   "outputs": [],
   "source": [
    "# Функции могут быть обьявлены внутри другой функции\n",
    "def get_operation(p1, p2):\n",
    "    def get_multiplication(arg1, arg2):\n",
    "        return arg1 * arg2 \n",
    "    result = get_multiplication(p1, p2)\n",
    "    return result\n",
    "\n",
    "print(get_operation(5, 5))\n",
    "# print(get_multiplication(5, 5)) # ошибка"
   ]
  },
  {
   "cell_type": "code",
   "execution_count": null,
   "metadata": {},
   "outputs": [],
   "source": [
    "# Функции могут возвращать другие функции\n",
    "def get_operation():\n",
    "    def get_multiplication(arg1, arg2):\n",
    "        return arg1 * arg2 \n",
    "    return get_multiplication\n",
    "\n",
    "result = get_operation()\n",
    "print(result)\n",
    "print(result(5, 5))"
   ]
  },
  {
   "cell_type": "code",
   "execution_count": null,
   "metadata": {},
   "outputs": [],
   "source": []
  }
 ]
}