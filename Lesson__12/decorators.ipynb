{
 "metadata": {
  "language_info": {
   "codemirror_mode": {
    "name": "ipython",
    "version": 3
   },
   "file_extension": ".py",
   "mimetype": "text/x-python",
   "name": "python",
   "nbconvert_exporter": "python",
   "pygments_lexer": "ipython3",
   "version": "3.9.1-final"
  },
  "orig_nbformat": 2,
  "kernelspec": {
   "name": "python3",
   "display_name": "Python 3.9.1 64-bit",
   "metadata": {
    "interpreter": {
     "hash": "7812ea015bdcee6f23a998adcdd2ef97c151c0c241b7b7070987d9313e41299d"
    }
   }
  }
 },
 "nbformat": 4,
 "nbformat_minor": 2,
 "cells": [
  {
   "cell_type": "code",
   "execution_count": null,
   "metadata": {},
   "outputs": [],
   "source": [
    "# Декоратор — это функция, которая позволяет обернуть другую функцию для расширения её функциональности без непосредственного изменения её кода.\n",
    "def decorator_function(func):\n",
    "    def wrapper():\n",
    "        print('Функция-обёртка!')\n",
    "        print('Оборачиваемая функция: {}'.format(func.__name__))\n",
    "        print('Выполняем обёрнутую функцию...')\n",
    "        func()\n",
    "        print('Выходим из обёртки')\n",
    "    return wrapper"
   ]
  },
  {
   "cell_type": "code",
   "execution_count": null,
   "metadata": {},
   "outputs": [],
   "source": [
    "def hello_world():\n",
    "    print(\"hello world\")\n",
    "\n",
    "hello_world = decorator_function(hello_world)\n",
    "hello_world()"
   ]
  },
  {
   "cell_type": "code",
   "execution_count": null,
   "metadata": {},
   "outputs": [],
   "source": [
    "@decorator_function\n",
    "def hello_world_2():\n",
    "    print(\"hello world\")\n",
    "\n",
    "hello_world_2()"
   ]
  },
  {
   "cell_type": "code",
   "execution_count": null,
   "metadata": {},
   "outputs": [],
   "source": [
    "import time\n",
    "\n",
    "def benchmark(func):\n",
    "    def wrapper():\n",
    "        start = time.time()\n",
    "        func()\n",
    "        end = time.time()\n",
    "        print('Время выполнения: {} секунд.'.format(end-start))\n",
    "    return wrapper\n",
    "\n",
    "@benchmark\n",
    "def fetch_webpage():\n",
    "    print(\"Hello world\")\n",
    "\n",
    "fetch_webpage()"
   ]
  },
  {
   "cell_type": "code",
   "execution_count": null,
   "metadata": {},
   "outputs": [],
   "source": [
    "# Входные аргументы и возвращаемые значения\n",
    "def benchmark_2(func):\n",
    "    def wrapper(*args, **kwargs):\n",
    "        start = time.time()\n",
    "        return_value = func(*args, **kwargs)\n",
    "        end = time.time()\n",
    "        print('Время выполнения: {} секунд.'.format(end-start))\n",
    "        return return_value\n",
    "    return wrapper\n",
    "\n",
    "@benchmark_2\n",
    "def my_printter(*args):\n",
    "    print(*args)\n",
    "\n",
    "my_printter(\"Hello\", \"World\")"
   ]
  }
 ]
}