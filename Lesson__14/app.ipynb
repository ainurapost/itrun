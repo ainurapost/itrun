{
 "metadata": {
  "language_info": {
   "codemirror_mode": {
    "name": "ipython",
    "version": 3
   },
   "file_extension": ".py",
   "mimetype": "text/x-python",
   "name": "python",
   "nbconvert_exporter": "python",
   "pygments_lexer": "ipython3",
   "version": "3.9.1-final"
  },
  "orig_nbformat": 2,
  "kernelspec": {
   "name": "python3",
   "display_name": "Python 3.9.1 64-bit",
   "metadata": {
    "interpreter": {
     "hash": "7812ea015bdcee6f23a998adcdd2ef97c151c0c241b7b7070987d9313e41299d"
    }
   }
  }
 },
 "nbformat": 4,
 "nbformat_minor": 2,
 "cells": [
  {
   "cell_type": "code",
   "execution_count": 4,
   "metadata": {},
   "outputs": [
    {
     "output_type": "stream",
     "name": "stdout",
     "text": [
      "Ноутбук Lenovo включился\nНоутбук Lenovo выключился\nУстановка на Lenovo ноутбук программы Kaspersky\nНоутбук MacBook Pro включился\nНоутбук MacBook Pro выключился\nУстановка на MacBook Pro ноутбук программы GIT,  производится при помощи Brew\n"
     ]
    }
   ],
   "source": [
    "# Наследование\n",
    "class laptop:\n",
    "    def __init__(self, name, display_size, os, proc):\n",
    "        self.name = name\n",
    "        self.display_size = display_size\n",
    "        self.os = os\n",
    "        self.proc = proc\n",
    "    \n",
    "    def on(self):\n",
    "        print(f\"Ноутбук {self.name} включился\")\n",
    "\n",
    "    def off(self):\n",
    "        print(f\"Ноутбук {self.name} выключился\")\n",
    "    \n",
    "    def install(self, program_name):\n",
    "        print(f\"Установка на {self.name} ноутбук программы {program_name}\")\n",
    "\n",
    "class Mac(laptop):\n",
    "    def install(self, program_name):\n",
    "        print(f\"Установка на {self.name} ноутбук программы {program_name},  производится при помощи Brew\")\n",
    "    \n",
    "    \n",
    "    \n",
    "w = laptop('Lenovo', 15, 'Windows', 'i3')\n",
    "m = Mac('MacBook Pro', 13, 'OSX', 'A1')\n",
    "\n",
    "w.on()\n",
    "w.off()\n",
    "w.install(\"Kaspersky\")\n",
    "\n",
    "m.on()\n",
    "m.off()\n",
    "m.install(\"GIT\")"
   ]
  },
  {
   "cell_type": "code",
   "execution_count": 7,
   "metadata": {},
   "outputs": [
    {
     "output_type": "stream",
     "name": "stdout",
     "text": [
      "Это легковой автомобиль Q7\nАвтомобиль Q7 сделан в Германии\nАвтомобиль Q7 имеет 4 колеса\n"
     ]
    }
   ],
   "source": [
    "class Car:\n",
    "    def __init__(self, name):\n",
    "        self.name = name\n",
    "    \n",
    "    def get_info(self):\n",
    "        print(f\"It's {self.name}\")\n",
    "\n",
    "class PassengerCar(Car):\n",
    "    def get_info(self):\n",
    "        print(f\"Это легковой автомобиль {self.name}\")\n",
    "\n",
    "class Bus(Car):\n",
    "    def get_info(self):\n",
    "        print(f\"Это автобус\")\n",
    "\n",
    "    def get_wheels_count(self):\n",
    "        print(\"Автобус имеет 6 колёс\")\n",
    "\n",
    "class Audi(PassengerCar, Bus):\n",
    "    def get_country(self):\n",
    "        print(f\"Автомобиль {self.name} сделан в Германии\")\n",
    "        \n",
    "    def get_wheels_count(self):\n",
    "        print(f\"Автомобиль {self.name} имеет 4 колеса\")\n",
    "\n",
    "a = Audi(\"Q7\")\n",
    "a.get_info()\n",
    "a.get_country()\n",
    "a.get_wheels_count()"
   ]
  },
  {
   "cell_type": "code",
   "execution_count": 16,
   "metadata": {},
   "outputs": [
    {
     "output_type": "stream",
     "name": "stdout",
     "text": [
      "Speed: 10\nSpeed: 20\nSpeed: 30\n30\n"
     ]
    }
   ],
   "source": [
    "# Инкапсуляция\n",
    "class Car:\n",
    "    def __init__(self, name):\n",
    "        self.name = name\n",
    "        self._speed = 0\n",
    "\n",
    "    def up_speed(self):\n",
    "        self._speed += 10\n",
    "        print('Speed:', self._speed)\n",
    "\n",
    "    def down_speed(self):\n",
    "        self._speed += 10\n",
    "        print('Speed:', self._speed)\n",
    "\n",
    "    def get_speed(self):\n",
    "        return self._speed\n",
    "\n",
    "c = Car(\"Audi\")\n",
    "c.up_speed()\n",
    "c.up_speed()\n",
    "c.up_speed()\n",
    "print(c.get_speed())\n",
    "c.speed = 2000\n",
    "# print(c._speed)"
   ]
  },
  {
   "cell_type": "code",
   "execution_count": 23,
   "metadata": {},
   "outputs": [
    {
     "output_type": "stream",
     "name": "stdout",
     "text": [
      "Alex\n"
     ]
    }
   ],
   "source": [
    "class Human:\n",
    "    def __init__(self, name, age):\n",
    "        self._name = name\n",
    "        self._age = age\n",
    "\n",
    "    def get_name(self):\n",
    "        return self._name\n",
    "\n",
    "    def get_age(self):\n",
    "        return self._age\n",
    "\n",
    "class Man(Human):\n",
    "    def __init__(self, name, age):\n",
    "        super().__init__(name, age)\n",
    "        self._gender = 'M'\n",
    "\n",
    "    def get_name(self):\n",
    "        print(\"123\")\n",
    "        return self().get_name()\n",
    "\n",
    "\n",
    "m = Man(\"Alex\", 22)\n",
    "print(m.get_name())"
   ]
  },
  {
   "cell_type": "code",
   "execution_count": null,
   "metadata": {},
   "outputs": [],
   "source": []
  }
 ]
}